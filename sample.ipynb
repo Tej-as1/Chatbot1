import random

class Chatbot:
    # List to store the previous conversations
    def __init__(self):
        self.remember= {}

    # Greeting message
    def greet(self):
        return "Hello! How can I assist you today?"

    #Asking a few basic questions
    def basic_questions(self, user_input):
        responses = {
            "How are you?": ["I'm doing well, thank you!", "I'm great, how about you?"],
            "What is your name?": ["I'm Mr. Chatty!", "You can call me Chatbot."],
            "What can you do?": ["I can answer your questions and have conversations with you.", "I'm here to help with whatever you need."],
            "Where are you from?": ["I exist in the realm of the internet!", "I'm a digital entity, so location doesn't really apply to me."],
            "What's the weather like today?": ["I'm afraid I can't check the weather, but you can do so easily with a weather app!"]
        }
        return random.choice(responses.get(user_input, ["I'm not sure how to respond to that."]))

    #Ending message
    def farewell(self):
        return "Goodbye! Have a great day."

    #Functionality for chatbot to ask the user questions
    def ask_questions(self):
        questions = ["Who is your favorite actor/actress?", "How was your day?", "Which place do you want to travel?"]
        answers = {}
        for question in questions:
            user_input = input(question + " ")
            answers[question] = user_input
        return answers

    # Responding to the answers of the user
    def respond(self, answers):
        for question, answer in answers.items():
            print(f"Your answer to '{question}': {answer}. Great!")

    #Error Handling
    def handle_error(self):
        return "Sorry! I am still learning, please ask me something else."

    #Main chatting function
    def chat(class_self):
      print(class_self.greet())  #Start with a greeting
      while True:                #Repeat till exit message is not given
        user_mssg = input("You: ")
        if user_mssg.lower() in ['bye','exit','quit']:
          print(class_self.farewell())
          break
        elif user_mssg in class_self.remember:
          print(class_self.remember[user_mssg])
        elif user_mssg.endswith("?"):
          answer = class_self.basic_questions(user_mssg)
          print("Me:", answer)
        elif user_mssg.lower() == 'ask':
          answer = class_self.ask_questions()
          class_self.respond(answer)
        else:
          print(class_self.handle_error())
        class_self.remember[user_mssg] = user_mssg

if __name__ == "__main__":
    chatbot = Chatbot()
    chatbot.chat()
