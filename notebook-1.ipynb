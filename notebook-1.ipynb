{
  "nbformat": 4,
  "nbformat_minor": 0,
  "metadata": {
    "colab": {
      "provenance": []
    },
    "kernelspec": {
      "name": "python3",
      "display_name": "Python 3"
    },
    "language_info": {
      "name": "python"
    }
  },
  "cells": [
    {
      "cell_type": "code",
      "source": [
        "import random\n",
        "\n",
        "class Chatbot:\n",
        "    # List to store the previous conversations\n",
        "    def __init__(self):\n",
        "        self.remember= {}\n",
        "\n",
        "    # Greeting message\n",
        "    def greet(self):\n",
        "        return \"Hello! How can I assist you today?\"\n",
        "\n",
        "    #Asking a few basic questions\n",
        "    def basic_questions(self, user_input):\n",
        "        responses = {\n",
        "            \"How are you?\": [\"I'm doing well, thank you!\", \"I'm great, how about you?\"],\n",
        "            \"What is your name?\": [\"I'm Mr. Chatty!\", \"You can call me Chatbot.\"],\n",
        "            \"What can you do?\": [\"I can answer your questions and have conversations with you.\", \"I'm here to help with whatever you need.\"],\n",
        "            \"Where are you from?\": [\"I exist in the realm of the internet!\", \"I'm a digital entity, so location doesn't really apply to me.\"],\n",
        "            \"What's the weather like today?\": [\"I'm afraid I can't check the weather, but you can do so easily with a weather app!\"]\n",
        "        }\n",
        "        return random.choice(responses.get(user_input, [\"I'm not sure how to respond to that.\"]))\n",
        "\n",
        "    #Ending message\n",
        "    def farewell(self):\n",
        "        return \"Goodbye! Have a great day.\"\n",
        "\n",
        "    #Functionality for chatbot to ask the user questions\n",
        "    def ask_questions(self):\n",
        "        questions = [\"Who is your favorite actor/actress?\", \"How was your day?\", \"Which place do you want to travel?\"]\n",
        "        answers = {}\n",
        "        for question in questions:\n",
        "            user_input = input(question + \" \")\n",
        "            answers[question] = user_input\n",
        "        return answers\n",
        "\n",
        "    # Responding to the answers of the user\n",
        "    def respond(self, answers):\n",
        "        for question, answer in answers.items():\n",
        "            print(f\"Your answer to '{question}': {answer}. Great!\")\n",
        "\n",
        "    #Error Handling\n",
        "    def handle_error(self):\n",
        "        return \"Sorry! I am still learning, please ask me something else.\"\n",
        "\n",
        "    #Main chatting function\n",
        "    def chat(class_self):\n",
        "      print(class_self.greet())  #Start with a greeting\n",
        "      while True:                #Repeat till exit message is not given\n",
        "        user_mssg = input(\"You: \")\n",
        "        if user_mssg.lower() in ['bye','exit','quit']:\n",
        "          print(class_self.farewell())\n",
        "          break\n",
        "        elif user_mssg in class_self.remember:\n",
        "          print(class_self.remember[user_mssg])\n",
        "        elif user_mssg.endswith(\"?\"):\n",
        "          answer = class_self.basic_questions(user_mssg)\n",
        "          print(\"Bot:\", answer)\n",
        "        elif user_mssg.lower() == 'ask':\n",
        "          answer = class_self.ask_questions()\n",
        "          class_self.respond(answer)\n",
        "        else:\n",
        "          print(class_self.handle_error())\n",
        "        class_self.remember[user_mssg] = user_mssg"
      ],
      "metadata": {
        "id": "E2RGPbu2J-Eu"
      },
      "execution_count": 23,
      "outputs": []
    },
    {
      "cell_type": "code",
      "execution_count": 24,
      "metadata": {
        "id": "L9WjKY2KA2YH",
        "colab": {
          "base_uri": "https://localhost:8080/"
        },
        "outputId": "6d780723-82fa-4344-a05e-c1b25d3a70ee"
      },
      "outputs": [
        {
          "output_type": "stream",
          "name": "stdout",
          "text": [
            "Hello! How can I assist you today?\n",
            "You: How are you?\n",
            "Bot: I'm great, how about you?\n",
            "You: ask\n",
            "Who is your favorite actor/actress? X\n",
            "How was your day? Y\n",
            "Which place do you want to travel? Z\n",
            "Your answer to 'Who is your favorite actor/actress?': X. Great!\n",
            "Your answer to 'How was your day?': Y. Great!\n",
            "Your answer to 'Which place do you want to travel?': Z. Great!\n",
            "You: What is the GDP of India?\n",
            "Bot: I'm not sure how to respond to that.\n",
            "You: bye\n",
            "Goodbye! Have a great day.\n"
          ]
        }
      ],
      "source": [
        "if __name__ == \"__main__\":\n",
        "    chatbot = Chatbot()\n",
        "    chatbot.chat()"
      ]
    },
    {
      "cell_type": "code",
      "source": [
        "\n"
      ],
      "metadata": {
        "id": "UIF_7W38Cp1e"
      },
      "execution_count": 19,
      "outputs": []
    },
    {
      "cell_type": "code",
      "source": [],
      "metadata": {
        "id": "6ifD_YFMA6gr"
      },
      "execution_count": 19,
      "outputs": []
    },
    {
      "cell_type": "code",
      "source": [],
      "metadata": {
        "id": "MU5Pp5TLGTBk"
      },
      "execution_count": null,
      "outputs": []
    }
  ]
}